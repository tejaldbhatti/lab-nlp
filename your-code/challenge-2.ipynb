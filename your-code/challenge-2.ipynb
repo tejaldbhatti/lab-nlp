{
 "cells": [
  {
   "cell_type": "markdown",
   "metadata": {},
   "source": [
    "# Challenge 2: Sentiment Analysis\n",
    "\n",
    "In this challenge we will learn sentiment analysis and practice performing sentiment analysis on Twitter tweets. \n",
    "\n",
    "## Introduction\n",
    "\n",
    "Sentiment analysis is to *systematically identify, extract, quantify, and study affective states and subjective information* based on texts ([reference](https://en.wikipedia.org/wiki/Sentiment_analysis)). In simple words, it's to understand whether a person is happy or unhappy in producing the piece of text. Why we (or rather, companies) care about sentiment in texts? It's because by understanding the sentiments in texts, we will be able to know if our customers are happy or unhappy about our products and services. If they are unhappy, the subsequent action is to figure out what have caused the unhappiness and make improvements.\n",
    "\n",
    "Basic sentiment analysis only understands the *positive* or *negative* (sometimes *neutral* too) polarities of the sentiment. More advanced sentiment analysis will also consider dimensions such as agreement, subjectivity, confidence, irony, and so on. In this challenge we will conduct the basic positive vs negative sentiment analysis based on real Twitter tweets.\n",
    "\n",
    "NLTK comes with a [sentiment analysis package](https://www.nltk.org/api/nltk.sentiment.html). This package is great for dummies to perform sentiment analysis because it requires only the textual data to make predictions. For example:\n",
    "\n",
    "```python\n",
    ">>> from nltk.sentiment.vader import SentimentIntensityAnalyzer\n",
    ">>> txt = \"Ironhack is a Global Tech School ranked num 2 worldwide.  ",
    " ",
    "Our mission is to help people transform their careers and join a thriving community of tech professionals that love what they do.\"\n",
    ">>> analyzer = SentimentIntensityAnalyzer()\n",
    ">>> analyzer.polarity_scores(txt)\n",
    "{'neg': 0.0, 'neu': 0.741, 'pos': 0.259, 'compound': 0.8442}\n",
    "```\n",
    "\n",
    "In this challenge, however, you will not use NLTK's sentiment analysis package because in your Machine Learning training in the past 2 weeks you have learned how to make predictions more accurate than that. The [tweets data](https://www.kaggle.com/kazanova/sentiment140) we will be using today are already coded for the positive/negative sentiment. You will be able to use the Naïve Bayes classifier you learned in the lesson to predict the sentiment of tweets based on the labels."
   ]
  },
  {
   "cell_type": "markdown",
   "metadata": {},
   "source": [
    "## Conducting Sentiment Analysis\n",
    "\n",
    "### Loading and Exploring Data\n",
    "\n",
    "The dataset we'll be using today is located on Kaggle (https://www.kaggle.com/kazanova/sentiment140). Once you have downloaded and imported the dataset, it you will need to define the columns names: df.columns = ['target','id','date','flag','user','text']\n",
    "\n",
    "*Notes:* \n",
    "\n",
    "* The dataset is huuuuge (1.6m tweets). When you develop your data analysis codes, you can sample a subset of the data (e.g. 20k records) so that you will save a lot of time when you test your codes."
   ]
  },
  {
   "cell_type": "code",
   "execution_count": 1,
   "metadata": {},
   "outputs": [],
   "source": [
    "import pandas as pd\n",
    "\n",
    "# your code here\n",
    "data = pd.read_csv(r\"training.1600000.processed.noemoticon.csv\",encoding = \"ISO-8859-1\")\n",
    "df = data.sample(n=20000,random_state =123,axis =0)\n",
    "df.head()\n",
    "col_names = ['target', 'id', 'date', 'flag', 'user', 'text']\n"
   ]
  },
  {
   "cell_type": "code",
   "execution_count": 2,
   "metadata": {},
   "outputs": [
    {
     "data": {
      "text/html": [
       "<div>\n",
       "<style scoped>\n",
       "    .dataframe tbody tr th:only-of-type {\n",
       "        vertical-align: middle;\n",
       "    }\n",
       "\n",
       "    .dataframe tbody tr th {\n",
       "        vertical-align: top;\n",
       "    }\n",
       "\n",
       "    .dataframe thead th {\n",
       "        text-align: right;\n",
       "    }\n",
       "</style>\n",
       "<table border=\"1\" class=\"dataframe\">\n",
       "  <thead>\n",
       "    <tr style=\"text-align: right;\">\n",
       "      <th></th>\n",
       "      <th>target</th>\n",
       "      <th>id</th>\n",
       "      <th>date</th>\n",
       "      <th>flag</th>\n",
       "      <th>user</th>\n",
       "      <th>text</th>\n",
       "    </tr>\n",
       "  </thead>\n",
       "  <tbody>\n",
       "    <tr>\n",
       "      <th>448282</th>\n",
       "      <td>0</td>\n",
       "      <td>2068921344</td>\n",
       "      <td>Sun Jun 07 14:56:43 PDT 2009</td>\n",
       "      <td>NO_QUERY</td>\n",
       "      <td>gemmagreeb</td>\n",
       "      <td>so tired  ive had like 7hrs sleep the past 2 n...</td>\n",
       "    </tr>\n",
       "    <tr>\n",
       "      <th>648495</th>\n",
       "      <td>0</td>\n",
       "      <td>2237041125</td>\n",
       "      <td>Fri Jun 19 05:04:02 PDT 2009</td>\n",
       "      <td>NO_QUERY</td>\n",
       "      <td>gopaldass</td>\n",
       "      <td>shucks... missed out on a key event this week ...</td>\n",
       "    </tr>\n",
       "    <tr>\n",
       "      <th>132529</th>\n",
       "      <td>0</td>\n",
       "      <td>1835775067</td>\n",
       "      <td>Mon May 18 06:43:29 PDT 2009</td>\n",
       "      <td>NO_QUERY</td>\n",
       "      <td>suedahlgren</td>\n",
       "      <td>@Geekdom Me too! Where are those nice 75 degre...</td>\n",
       "    </tr>\n",
       "    <tr>\n",
       "      <th>182348</th>\n",
       "      <td>0</td>\n",
       "      <td>1967122225</td>\n",
       "      <td>Fri May 29 19:00:48 PDT 2009</td>\n",
       "      <td>NO_QUERY</td>\n",
       "      <td>sarahleefitz</td>\n",
       "      <td>Its Spikey Dikey's last Friday night in The Bu...</td>\n",
       "    </tr>\n",
       "    <tr>\n",
       "      <th>907612</th>\n",
       "      <td>4</td>\n",
       "      <td>1695846131</td>\n",
       "      <td>Mon May 04 07:04:29 PDT 2009</td>\n",
       "      <td>NO_QUERY</td>\n",
       "      <td>Digidreams</td>\n",
       "      <td>good mornin  ? http://blip.fm/~5jryt</td>\n",
       "    </tr>\n",
       "    <tr>\n",
       "      <th>...</th>\n",
       "      <td>...</td>\n",
       "      <td>...</td>\n",
       "      <td>...</td>\n",
       "      <td>...</td>\n",
       "      <td>...</td>\n",
       "      <td>...</td>\n",
       "    </tr>\n",
       "    <tr>\n",
       "      <th>1503733</th>\n",
       "      <td>4</td>\n",
       "      <td>2072031742</td>\n",
       "      <td>Sun Jun 07 20:17:03 PDT 2009</td>\n",
       "      <td>NO_QUERY</td>\n",
       "      <td>Gary200</td>\n",
       "      <td>@Richochet: Thanks! You are awesome too.</td>\n",
       "    </tr>\n",
       "    <tr>\n",
       "      <th>912756</th>\n",
       "      <td>4</td>\n",
       "      <td>1752385539</td>\n",
       "      <td>Sat May 09 21:46:48 PDT 2009</td>\n",
       "      <td>NO_QUERY</td>\n",
       "      <td>cookie_ninja</td>\n",
       "      <td>About to leave the fights. I'm tired and my vo...</td>\n",
       "    </tr>\n",
       "    <tr>\n",
       "      <th>1398819</th>\n",
       "      <td>4</td>\n",
       "      <td>2054152487</td>\n",
       "      <td>Sat Jun 06 06:41:19 PDT 2009</td>\n",
       "      <td>NO_QUERY</td>\n",
       "      <td>MyMeatWorks</td>\n",
       "      <td>@FuurHunt Thanks for the support!</td>\n",
       "    </tr>\n",
       "    <tr>\n",
       "      <th>422592</th>\n",
       "      <td>0</td>\n",
       "      <td>2062681668</td>\n",
       "      <td>Sat Jun 06 23:58:09 PDT 2009</td>\n",
       "      <td>NO_QUERY</td>\n",
       "      <td>idoodleallday</td>\n",
       "      <td>@LisaBBTCullen OMG I wish I were in NYC to see...</td>\n",
       "    </tr>\n",
       "    <tr>\n",
       "      <th>1017298</th>\n",
       "      <td>4</td>\n",
       "      <td>1881827233</td>\n",
       "      <td>Fri May 22 05:39:05 PDT 2009</td>\n",
       "      <td>NO_QUERY</td>\n",
       "      <td>TraceyHewins</td>\n",
       "      <td>Good morning everyone</td>\n",
       "    </tr>\n",
       "  </tbody>\n",
       "</table>\n",
       "<p>20000 rows × 6 columns</p>\n",
       "</div>"
      ],
      "text/plain": [
       "         target          id                          date      flag  \\\n",
       "448282        0  2068921344  Sun Jun 07 14:56:43 PDT 2009  NO_QUERY   \n",
       "648495        0  2237041125  Fri Jun 19 05:04:02 PDT 2009  NO_QUERY   \n",
       "132529        0  1835775067  Mon May 18 06:43:29 PDT 2009  NO_QUERY   \n",
       "182348        0  1967122225  Fri May 29 19:00:48 PDT 2009  NO_QUERY   \n",
       "907612        4  1695846131  Mon May 04 07:04:29 PDT 2009  NO_QUERY   \n",
       "...         ...         ...                           ...       ...   \n",
       "1503733       4  2072031742  Sun Jun 07 20:17:03 PDT 2009  NO_QUERY   \n",
       "912756        4  1752385539  Sat May 09 21:46:48 PDT 2009  NO_QUERY   \n",
       "1398819       4  2054152487  Sat Jun 06 06:41:19 PDT 2009  NO_QUERY   \n",
       "422592        0  2062681668  Sat Jun 06 23:58:09 PDT 2009  NO_QUERY   \n",
       "1017298       4  1881827233  Fri May 22 05:39:05 PDT 2009  NO_QUERY   \n",
       "\n",
       "                  user                                               text  \n",
       "448282      gemmagreeb  so tired  ive had like 7hrs sleep the past 2 n...  \n",
       "648495       gopaldass  shucks... missed out on a key event this week ...  \n",
       "132529     suedahlgren  @Geekdom Me too! Where are those nice 75 degre...  \n",
       "182348    sarahleefitz  Its Spikey Dikey's last Friday night in The Bu...  \n",
       "907612      Digidreams               good mornin  ? http://blip.fm/~5jryt  \n",
       "...                ...                                                ...  \n",
       "1503733        Gary200          @Richochet: Thanks! You are awesome too.   \n",
       "912756    cookie_ninja  About to leave the fights. I'm tired and my vo...  \n",
       "1398819    MyMeatWorks                 @FuurHunt Thanks for the support!   \n",
       "422592   idoodleallday  @LisaBBTCullen OMG I wish I were in NYC to see...  \n",
       "1017298   TraceyHewins                             Good morning everyone   \n",
       "\n",
       "[20000 rows x 6 columns]"
      ]
     },
     "execution_count": 2,
     "metadata": {},
     "output_type": "execute_result"
    }
   ],
   "source": [
    "df.columns = col_names\n",
    "df"
   ]
  },
  {
   "cell_type": "code",
   "execution_count": 3,
   "metadata": {
    "scrolled": false
   },
   "outputs": [
    {
     "data": {
      "text/plain": [
       "0    10010\n",
       "4     9990\n",
       "Name: target, dtype: int64"
      ]
     },
     "execution_count": 3,
     "metadata": {},
     "output_type": "execute_result"
    }
   ],
   "source": [
    "df[\"target\"].value_counts()"
   ]
  },
  {
   "cell_type": "markdown",
   "metadata": {},
   "source": [
    "### Prepare Textual Data for Sentiment Analysis\n",
    "\n",
    "Now, apply the functions you have written in Challenge 1 to your whole data set. These functions include:\n",
    "\n",
    "* `clean_up()`\n",
    "\n",
    "* `tokenize()`\n",
    "\n",
    "* `stem_and_lemmatize()`\n",
    "\n",
    "* `remove_stopwords()`\n",
    "\n",
    "Create a new column called `text_processed` in the dataframe to contain the processed data. At the end, your `text_processed` column should contain lists of word tokens that are cleaned up. Your data should look like below:\n",
    "\n",
    "![Processed Data](data-cleaning-results.png)"
   ]
  },
  {
   "cell_type": "code",
   "execution_count": 4,
   "metadata": {},
   "outputs": [],
   "source": [
    "df.reset_index(drop = True,inplace =True)"
   ]
  },
  {
   "cell_type": "code",
   "execution_count": 5,
   "metadata": {},
   "outputs": [
    {
     "name": "stderr",
     "output_type": "stream",
     "text": [
      "[nltk_data] Downloading package stopwords to\n",
      "[nltk_data]     C:\\Users\\Denish\\AppData\\Roaming\\nltk_data...\n",
      "[nltk_data]   Package stopwords is already up-to-date!\n"
     ]
    },
    {
     "data": {
      "text/plain": [
       "True"
      ]
     },
     "execution_count": 5,
     "metadata": {},
     "output_type": "execute_result"
    }
   ],
   "source": [
    "import pandas as pd\n",
    "import nltk\n",
    "from nltk.stem import WordNetLemmatizer \n",
    "from nltk.corpus import stopwords\n",
    "from sklearn.feature_extraction.text import CountVectorizer\n",
    "from nltk.tokenize import word_tokenize\n",
    "import re\n",
    "from nltk.stem import PorterStemmer\n",
    "from nltk.stem import WordNetLemmatizer \n",
    "from nltk.corpus import wordnet\n",
    "import nltk\n",
    "nltk.download('stopwords')"
   ]
  },
  {
   "cell_type": "code",
   "execution_count": 6,
   "metadata": {},
   "outputs": [],
   "source": [
    "# your code here\n",
    "def clean_up(s):\n",
    "    pattern_urls = r'http[s]?://(?:[a-zA-Z]|[0-9]|[$-_@.&+]|[!*\\\\(\\\\),]|(?:%[0-9a-fA-F][0-9a-fA-F]))+'\n",
    "    cleaned_string = re.sub(pattern_urls, '',s)\n",
    "    cleaned_string = cleaned_string.lower()\n",
    "    cleaned_string = re.sub(r'[^a-zA-Z\\s]',\" \", cleaned_string)\n",
    "    return cleaned_string  "
   ]
  },
  {
   "cell_type": "code",
   "execution_count": 7,
   "metadata": {
    "scrolled": true
   },
   "outputs": [],
   "source": [
    "df[\"text_processed\"] = df[\"text\"].apply(clean_up)"
   ]
  },
  {
   "cell_type": "code",
   "execution_count": 8,
   "metadata": {},
   "outputs": [],
   "source": [
    "def tokenize(s):\n",
    "    tokens = word_tokenize(s)\n",
    "    tokens = [word for word in tokens if word.isalnum()]\n",
    "    return tokens"
   ]
  },
  {
   "cell_type": "code",
   "execution_count": 9,
   "metadata": {},
   "outputs": [],
   "source": [
    "df[\"text_processed\"] = df[\"text_processed\"].apply(tokenize)"
   ]
  },
  {
   "cell_type": "code",
   "execution_count": 10,
   "metadata": {},
   "outputs": [],
   "source": [
    "def stem_and_lemmatize(l):\n",
    "    ps = PorterStemmer()\n",
    "    stemmed = [ps.stem(w) for w in l]\n",
    "    lemmatizer = WordNetLemmatizer() \n",
    "    lemmatized = [lemmatizer.lemmatize(word) for word in stemmed]\n",
    "    return lemmatized"
   ]
  },
  {
   "cell_type": "code",
   "execution_count": 11,
   "metadata": {},
   "outputs": [],
   "source": [
    "df[\"text_processed\"] = df[\"text_processed\"].apply(stem_and_lemmatize)"
   ]
  },
  {
   "cell_type": "code",
   "execution_count": 12,
   "metadata": {},
   "outputs": [],
   "source": [
    "def remove_stopwords(l):\n",
    "    lemmatized_wt_sw = [word for word in l if not word in stopwords.words('english')]\n",
    "    return lemmatized_wt_sw"
   ]
  },
  {
   "cell_type": "code",
   "execution_count": 13,
   "metadata": {},
   "outputs": [],
   "source": [
    "df[\"text_processed\"] = df[\"text_processed\"].apply(remove_stopwords)"
   ]
  },
  {
   "cell_type": "code",
   "execution_count": 14,
   "metadata": {},
   "outputs": [
    {
     "data": {
      "text/html": [
       "<div>\n",
       "<style scoped>\n",
       "    .dataframe tbody tr th:only-of-type {\n",
       "        vertical-align: middle;\n",
       "    }\n",
       "\n",
       "    .dataframe tbody tr th {\n",
       "        vertical-align: top;\n",
       "    }\n",
       "\n",
       "    .dataframe thead th {\n",
       "        text-align: right;\n",
       "    }\n",
       "</style>\n",
       "<table border=\"1\" class=\"dataframe\">\n",
       "  <thead>\n",
       "    <tr style=\"text-align: right;\">\n",
       "      <th></th>\n",
       "      <th>target</th>\n",
       "      <th>id</th>\n",
       "      <th>date</th>\n",
       "      <th>flag</th>\n",
       "      <th>user</th>\n",
       "      <th>text</th>\n",
       "      <th>text_processed</th>\n",
       "    </tr>\n",
       "  </thead>\n",
       "  <tbody>\n",
       "    <tr>\n",
       "      <th>0</th>\n",
       "      <td>0</td>\n",
       "      <td>2068921344</td>\n",
       "      <td>Sun Jun 07 14:56:43 PDT 2009</td>\n",
       "      <td>NO_QUERY</td>\n",
       "      <td>gemmagreeb</td>\n",
       "      <td>so tired  ive had like 7hrs sleep the past 2 n...</td>\n",
       "      <td>[tire, ive, like, hr, sleep, past, night, gooo...</td>\n",
       "    </tr>\n",
       "    <tr>\n",
       "      <th>1</th>\n",
       "      <td>0</td>\n",
       "      <td>2237041125</td>\n",
       "      <td>Fri Jun 19 05:04:02 PDT 2009</td>\n",
       "      <td>NO_QUERY</td>\n",
       "      <td>gopaldass</td>\n",
       "      <td>shucks... missed out on a key event this week ...</td>\n",
       "      <td>[shuck, miss, key, event, thi, week, gt, gt, m...</td>\n",
       "    </tr>\n",
       "    <tr>\n",
       "      <th>2</th>\n",
       "      <td>0</td>\n",
       "      <td>1835775067</td>\n",
       "      <td>Mon May 18 06:43:29 PDT 2009</td>\n",
       "      <td>NO_QUERY</td>\n",
       "      <td>suedahlgren</td>\n",
       "      <td>@Geekdom Me too! Where are those nice 75 degre...</td>\n",
       "      <td>[geekdom, nice, degre, day, could, use, week, ...</td>\n",
       "    </tr>\n",
       "    <tr>\n",
       "      <th>3</th>\n",
       "      <td>0</td>\n",
       "      <td>1967122225</td>\n",
       "      <td>Fri May 29 19:00:48 PDT 2009</td>\n",
       "      <td>NO_QUERY</td>\n",
       "      <td>sarahleefitz</td>\n",
       "      <td>Its Spikey Dikey's last Friday night in The Bu...</td>\n",
       "      <td>[spikey, dikey, last, friday, night, burg, way...</td>\n",
       "    </tr>\n",
       "    <tr>\n",
       "      <th>4</th>\n",
       "      <td>4</td>\n",
       "      <td>1695846131</td>\n",
       "      <td>Mon May 04 07:04:29 PDT 2009</td>\n",
       "      <td>NO_QUERY</td>\n",
       "      <td>Digidreams</td>\n",
       "      <td>good mornin  ? http://blip.fm/~5jryt</td>\n",
       "      <td>[good, mornin, jryt]</td>\n",
       "    </tr>\n",
       "  </tbody>\n",
       "</table>\n",
       "</div>"
      ],
      "text/plain": [
       "   target          id                          date      flag          user  \\\n",
       "0       0  2068921344  Sun Jun 07 14:56:43 PDT 2009  NO_QUERY    gemmagreeb   \n",
       "1       0  2237041125  Fri Jun 19 05:04:02 PDT 2009  NO_QUERY     gopaldass   \n",
       "2       0  1835775067  Mon May 18 06:43:29 PDT 2009  NO_QUERY   suedahlgren   \n",
       "3       0  1967122225  Fri May 29 19:00:48 PDT 2009  NO_QUERY  sarahleefitz   \n",
       "4       4  1695846131  Mon May 04 07:04:29 PDT 2009  NO_QUERY    Digidreams   \n",
       "\n",
       "                                                text  \\\n",
       "0  so tired  ive had like 7hrs sleep the past 2 n...   \n",
       "1  shucks... missed out on a key event this week ...   \n",
       "2  @Geekdom Me too! Where are those nice 75 degre...   \n",
       "3  Its Spikey Dikey's last Friday night in The Bu...   \n",
       "4               good mornin  ? http://blip.fm/~5jryt   \n",
       "\n",
       "                                      text_processed  \n",
       "0  [tire, ive, like, hr, sleep, past, night, gooo...  \n",
       "1  [shuck, miss, key, event, thi, week, gt, gt, m...  \n",
       "2  [geekdom, nice, degre, day, could, use, week, ...  \n",
       "3  [spikey, dikey, last, friday, night, burg, way...  \n",
       "4                               [good, mornin, jryt]  "
      ]
     },
     "execution_count": 14,
     "metadata": {},
     "output_type": "execute_result"
    }
   ],
   "source": [
    "df.head()"
   ]
  },
  {
   "cell_type": "markdown",
   "metadata": {},
   "source": [
    "### Creating Bag of Words\n",
    "\n",
    "The purpose of this step is to create a [bag of words](https://en.wikipedia.org/wiki/Bag-of-words_model) from the processed data. The bag of words contains all the unique words in your whole text body (a.k.a. *corpus*) with the number of occurrence of each word. It will allow you to understand which words are the most important features across the whole corpus.\n",
    "\n",
    "Also, you can imagine you will have a massive set of words. The less important words (i.e. those of very low number of occurrence) do not contribute much to the sentiment. Therefore, you only need to use the most important words to build your feature set in the next step. In our case, we will use the top 5,000 words with the highest frequency to build the features.\n",
    "\n",
    "In the cell below, combine all the words in `text_processed` and calculate the frequency distribution of all words. A convenient library to calculate the term frequency distribution is NLTK's `FreqDist` class ([documentation](https://www.nltk.org/api/nltk.html#module-nltk.probability)). Then select the top 5,000 words from the frequency distribution."
   ]
  },
  {
   "cell_type": "code",
   "execution_count": 15,
   "metadata": {},
   "outputs": [],
   "source": [
    "# your code here\n",
    "from nltk import FreqDist\n",
    "text_processed = FreqDist()\n",
    "\n",
    "from nltk import FreqDist\n",
    "for i in df[\"text_processed\"]:\n",
    "    \n",
    "    text_processed.update(i)\n",
    "   "
   ]
  },
  {
   "cell_type": "code",
   "execution_count": 16,
   "metadata": {},
   "outputs": [],
   "source": [
    "all_words = text_processed.most_common(5000)"
   ]
  },
  {
   "cell_type": "markdown",
   "metadata": {},
   "source": [
    "### Building Features\n",
    "\n",
    "Now let's build the features. Using the top 5,000 words, create a 2-dimensional matrix to record whether each of those words is contained in each document (tweet). Then you also have an output column to indicate whether the sentiment in each tweet is positive. For example, assuming your bag of words has 5 items (`['one', 'two', 'three', 'four', 'five']`) out of 4 documents (`['A', 'B', 'C', 'D']`), your feature set is essentially:\n",
    "\n",
    "| Doc | one | two | three | four | five | is_positive |\n",
    "|---|---|---|---|---|---|---|\n",
    "| A | True | False | False | True | False | True |\n",
    "| B | False | False | False | True | True | False |\n",
    "| C | False | True | False | False | False | True |\n",
    "| D | True | False | False | False | True | False|\n",
    "\n",
    "However, because the `nltk.NaiveBayesClassifier.train` class we will use in the next step does not work with Pandas dataframe, the structure of your feature set should be converted to the Python list looking like below:\n",
    "\n",
    "```python\n",
    "[\n",
    "\t({\n",
    "\t\t'one': True,\n",
    "\t\t'two': False,\n",
    "\t\t'three': False,\n",
    "\t\t'four': True,\n",
    "\t\t'five': False\n",
    "\t}, True),\n",
    "\t({\n",
    "\t\t'one': False,\n",
    "\t\t'two': False,\n",
    "\t\t'three': False,\n",
    "\t\t'four': True,\n",
    "\t\t'five': True\n",
    "\t}, False),\n",
    "\t({\n",
    "\t\t'one': False,\n",
    "\t\t'two': True,\n",
    "\t\t'three': False,\n",
    "\t\t'four': False,\n",
    "\t\t'five': False\n",
    "\t}, True),\n",
    "\t({\n",
    "\t\t'one': True,\n",
    "\t\t'two': False,\n",
    "\t\t'three': False,\n",
    "\t\t'four': False,\n",
    "\t\t'five': True\n",
    "\t}, False)\n",
    "]\n",
    "```\n",
    "\n",
    "To help you in this step, watch the [following video](https://www.youtube.com/watch?v=-vVskDsHcVc) to learn how to build the feature set with Python and NLTK. The source code in this video can be found [here](https://pythonprogramming.net/words-as-features-nltk-tutorial/)."
   ]
  },
  {
   "cell_type": "markdown",
   "metadata": {},
   "source": [
    "[![Building Features](building-features.jpg)](https://www.youtube.com/watch?v=-vVskDsHcVc)"
   ]
  },
  {
   "cell_type": "code",
   "execution_count": 17,
   "metadata": {},
   "outputs": [],
   "source": [
    "all_words = dict(all_words)"
   ]
  },
  {
   "cell_type": "code",
   "execution_count": 18,
   "metadata": {},
   "outputs": [],
   "source": [
    "# your code here\n",
    "word_Features = list(all_words.keys())\n"
   ]
  },
  {
   "cell_type": "code",
   "execution_count": 19,
   "metadata": {},
   "outputs": [],
   "source": [
    "def find_features(document):\n",
    "    words = set(document)\n",
    "    features = {}\n",
    "    for w in word_Features:\n",
    "        features[w] = (w in words)\n",
    "    return features    \n",
    "        "
   ]
  },
  {
   "cell_type": "code",
   "execution_count": 20,
   "metadata": {},
   "outputs": [],
   "source": [
    "df[\"text_processed\"]= df[\"text_processed\"].apply(find_features)"
   ]
  },
  {
   "cell_type": "code",
   "execution_count": 21,
   "metadata": {},
   "outputs": [],
   "source": [
    "df[\"target\"] = df[\"target\"].replace({0:False, 4:True})"
   ]
  },
  {
   "cell_type": "code",
   "execution_count": 22,
   "metadata": {},
   "outputs": [
    {
     "data": {
      "text/plain": [
       "0        False\n",
       "1        False\n",
       "2        False\n",
       "3        False\n",
       "4         True\n",
       "         ...  \n",
       "19995     True\n",
       "19996     True\n",
       "19997     True\n",
       "19998    False\n",
       "19999     True\n",
       "Name: target, Length: 20000, dtype: bool"
      ]
     },
     "execution_count": 22,
     "metadata": {},
     "output_type": "execute_result"
    }
   ],
   "source": [
    "df[\"target\"]"
   ]
  },
  {
   "cell_type": "code",
   "execution_count": null,
   "metadata": {},
   "outputs": [],
   "source": [
    "# is_positive = df[\"target\"]\n",
    "# df.drop(\"target\",axis =1,inplace = True)"
   ]
  },
  {
   "cell_type": "code",
   "execution_count": 23,
   "metadata": {},
   "outputs": [
    {
     "data": {
      "text/html": [
       "<div>\n",
       "<style scoped>\n",
       "    .dataframe tbody tr th:only-of-type {\n",
       "        vertical-align: middle;\n",
       "    }\n",
       "\n",
       "    .dataframe tbody tr th {\n",
       "        vertical-align: top;\n",
       "    }\n",
       "\n",
       "    .dataframe thead th {\n",
       "        text-align: right;\n",
       "    }\n",
       "</style>\n",
       "<table border=\"1\" class=\"dataframe\">\n",
       "  <thead>\n",
       "    <tr style=\"text-align: right;\">\n",
       "      <th></th>\n",
       "      <th>target</th>\n",
       "      <th>id</th>\n",
       "      <th>date</th>\n",
       "      <th>flag</th>\n",
       "      <th>user</th>\n",
       "      <th>text</th>\n",
       "      <th>text_processed</th>\n",
       "    </tr>\n",
       "  </thead>\n",
       "  <tbody>\n",
       "    <tr>\n",
       "      <th>0</th>\n",
       "      <td>False</td>\n",
       "      <td>2068921344</td>\n",
       "      <td>Sun Jun 07 14:56:43 PDT 2009</td>\n",
       "      <td>NO_QUERY</td>\n",
       "      <td>gemmagreeb</td>\n",
       "      <td>so tired  ive had like 7hrs sleep the past 2 n...</td>\n",
       "      <td>{'go': False, 'get': False, 'wa': False, 'day'...</td>\n",
       "    </tr>\n",
       "    <tr>\n",
       "      <th>1</th>\n",
       "      <td>False</td>\n",
       "      <td>2237041125</td>\n",
       "      <td>Fri Jun 19 05:04:02 PDT 2009</td>\n",
       "      <td>NO_QUERY</td>\n",
       "      <td>gopaldass</td>\n",
       "      <td>shucks... missed out on a key event this week ...</td>\n",
       "      <td>{'go': False, 'get': False, 'wa': False, 'day'...</td>\n",
       "    </tr>\n",
       "    <tr>\n",
       "      <th>2</th>\n",
       "      <td>False</td>\n",
       "      <td>1835775067</td>\n",
       "      <td>Mon May 18 06:43:29 PDT 2009</td>\n",
       "      <td>NO_QUERY</td>\n",
       "      <td>suedahlgren</td>\n",
       "      <td>@Geekdom Me too! Where are those nice 75 degre...</td>\n",
       "      <td>{'go': False, 'get': False, 'wa': False, 'day'...</td>\n",
       "    </tr>\n",
       "    <tr>\n",
       "      <th>3</th>\n",
       "      <td>False</td>\n",
       "      <td>1967122225</td>\n",
       "      <td>Fri May 29 19:00:48 PDT 2009</td>\n",
       "      <td>NO_QUERY</td>\n",
       "      <td>sarahleefitz</td>\n",
       "      <td>Its Spikey Dikey's last Friday night in The Bu...</td>\n",
       "      <td>{'go': False, 'get': False, 'wa': False, 'day'...</td>\n",
       "    </tr>\n",
       "    <tr>\n",
       "      <th>4</th>\n",
       "      <td>True</td>\n",
       "      <td>1695846131</td>\n",
       "      <td>Mon May 04 07:04:29 PDT 2009</td>\n",
       "      <td>NO_QUERY</td>\n",
       "      <td>Digidreams</td>\n",
       "      <td>good mornin  ? http://blip.fm/~5jryt</td>\n",
       "      <td>{'go': False, 'get': False, 'wa': False, 'day'...</td>\n",
       "    </tr>\n",
       "  </tbody>\n",
       "</table>\n",
       "</div>"
      ],
      "text/plain": [
       "   target          id                          date      flag          user  \\\n",
       "0   False  2068921344  Sun Jun 07 14:56:43 PDT 2009  NO_QUERY    gemmagreeb   \n",
       "1   False  2237041125  Fri Jun 19 05:04:02 PDT 2009  NO_QUERY     gopaldass   \n",
       "2   False  1835775067  Mon May 18 06:43:29 PDT 2009  NO_QUERY   suedahlgren   \n",
       "3   False  1967122225  Fri May 29 19:00:48 PDT 2009  NO_QUERY  sarahleefitz   \n",
       "4    True  1695846131  Mon May 04 07:04:29 PDT 2009  NO_QUERY    Digidreams   \n",
       "\n",
       "                                                text  \\\n",
       "0  so tired  ive had like 7hrs sleep the past 2 n...   \n",
       "1  shucks... missed out on a key event this week ...   \n",
       "2  @Geekdom Me too! Where are those nice 75 degre...   \n",
       "3  Its Spikey Dikey's last Friday night in The Bu...   \n",
       "4               good mornin  ? http://blip.fm/~5jryt   \n",
       "\n",
       "                                      text_processed  \n",
       "0  {'go': False, 'get': False, 'wa': False, 'day'...  \n",
       "1  {'go': False, 'get': False, 'wa': False, 'day'...  \n",
       "2  {'go': False, 'get': False, 'wa': False, 'day'...  \n",
       "3  {'go': False, 'get': False, 'wa': False, 'day'...  \n",
       "4  {'go': False, 'get': False, 'wa': False, 'day'...  "
      ]
     },
     "execution_count": 23,
     "metadata": {},
     "output_type": "execute_result"
    }
   ],
   "source": [
    "df.head()"
   ]
  },
  {
   "cell_type": "code",
   "execution_count": 27,
   "metadata": {},
   "outputs": [],
   "source": [
    "columns_list = df[['text_processed', 'target']].values.tolist()"
   ]
  },
  {
   "cell_type": "markdown",
   "metadata": {},
   "source": [
    "### Building and Traininng Naive Bayes Model\n",
    "\n",
    "In this step you will split your feature set into a training and a test set. Then you will create a Bayes classifier instance using `nltk.NaiveBayesClassifier.train` ([example](https://www.nltk.org/book/ch06.html)) to train with the training dataset.\n",
    "\n",
    "After training the model, call `classifier.show_most_informative_features()` to inspect the most important features. The output will look like:\n",
    "\n",
    "```\n",
    "Most Informative Features\n",
    "\t    snow = True            False : True   =     34.3 : 1.0\n",
    "\t  easter = True            False : True   =     26.2 : 1.0\n",
    "\t headach = True            False : True   =     20.9 : 1.0\n",
    "\t    argh = True            False : True   =     17.6 : 1.0\n",
    "\tunfortun = True            False : True   =     16.9 : 1.0\n",
    "\t    jona = True             True : False  =     16.2 : 1.0\n",
    "\t     ach = True            False : True   =     14.9 : 1.0\n",
    "\t     sad = True            False : True   =     13.0 : 1.0\n",
    "\t  parent = True            False : True   =     12.9 : 1.0\n",
    "\t  spring = True            False : True   =     12.7 : 1.0\n",
    "```\n",
    "\n",
    "The [following video](https://www.youtube.com/watch?v=rISOsUaTrO4) will help you complete this step. The source code in this video can be found [here](https://pythonprogramming.net/naive-bayes-classifier-nltk-tutorial/)."
   ]
  },
  {
   "cell_type": "markdown",
   "metadata": {},
   "source": [
    "[![Building and Training NB](nb-model-building.jpg)](https://www.youtube.com/watch?v=rISOsUaTrO4)"
   ]
  },
  {
   "cell_type": "code",
   "execution_count": 29,
   "metadata": {},
   "outputs": [],
   "source": [
    "# your code here\n",
    "train_set, test_set = columns_list[10000:], columns_list[:10000]\n",
    "classifier = nltk.NaiveBayesClassifier.train(train_set)"
   ]
  },
  {
   "cell_type": "markdown",
   "metadata": {},
   "source": [
    "### Testing Naive Bayes Model\n",
    "\n",
    "Now we'll test our classifier with the test dataset. This is done by calling `nltk.classify.accuracy(classifier, test)`.\n",
    "\n",
    "As mentioned in one of the tutorial videos, a Naive Bayes model is considered OK if your accuracy score is over 0.6. If your accuracy score is over 0.7, you've done a great job!"
   ]
  },
  {
   "cell_type": "code",
   "execution_count": 30,
   "metadata": {},
   "outputs": [
    {
     "name": "stdout",
     "output_type": "stream",
     "text": [
      "0.7241\n"
     ]
    }
   ],
   "source": [
    "# your code here\n",
    "print(nltk.classify.accuracy(classifier, test_set))"
   ]
  },
  {
   "cell_type": "code",
   "execution_count": 33,
   "metadata": {},
   "outputs": [
    {
     "name": "stdout",
     "output_type": "stream",
     "text": [
      "Most Informative Features\n",
      "                     sad = True            False : True   =     22.7 : 1.0\n",
      "                 headach = True            False : True   =     22.1 : 1.0\n",
      "                   smile = True             True : False  =     17.3 : 1.0\n",
      "                    crap = True            False : True   =     16.7 : 1.0\n",
      "                     www = True             True : False  =     10.8 : 1.0\n",
      "                unfortun = True            False : True   =     10.5 : 1.0\n",
      "                   magic = True             True : False  =     10.1 : 1.0\n",
      "                   shout = True             True : False  =     10.1 : 1.0\n",
      "                 depress = True            False : True   =     10.0 : 1.0\n",
      "                    sore = True            False : True   =     10.0 : 1.0\n"
     ]
    }
   ],
   "source": [
    "classifier.show_most_informative_features(10)"
   ]
  },
  {
   "cell_type": "markdown",
   "metadata": {},
   "source": [
    "## Bonus Question 1: Improve Model Performance\n",
    "\n",
    "If you are still not exhausted so far and want to dig deeper, try to improve your classifier performance. There are many aspects you can dig into, for example:\n",
    "\n",
    "* Improve stemming and lemmatization. Inspect your bag of words and the most important features. Are there any words you should furuther remove from analysis? You can append these words to further remove to the stop words list.\n",
    "\n",
    "* Remember we only used the top 5,000 features to build model? Try using different numbers of top features. The bottom line is to use as few features as you can without compromising your model performance. The fewer features you select into your model, the faster your model is trained. Then you can use a larger sample size to improve your model accuracy score."
   ]
  },
  {
   "cell_type": "code",
   "execution_count": null,
   "metadata": {},
   "outputs": [],
   "source": [
    "# your code here"
   ]
  },
  {
   "cell_type": "markdown",
   "metadata": {},
   "source": [
    "## Bonus Question 2: Machine Learning Pipeline\n",
    "\n",
    "In a new Jupyter Notebook, combine all your codes into a function (or a class). Your new function will execute the complete machine learning pipeline job by receiving the dataset location and output the classifier. This will allow you to use your function to predict the sentiment of any tweet in real time. "
   ]
  },
  {
   "cell_type": "code",
   "execution_count": null,
   "metadata": {},
   "outputs": [],
   "source": [
    "# your code here"
   ]
  },
  {
   "cell_type": "markdown",
   "metadata": {},
   "source": [
    "## Bonus Question 3: Apache Spark\n",
    "\n",
    "If you have completed the Apache Spark advanced topic lab, what you can do is to migrate your pipeline from local to a Databricks Notebook. Share your notebook with your instructor and classmates to show off your achievements!"
   ]
  },
  {
   "cell_type": "code",
   "execution_count": null,
   "metadata": {},
   "outputs": [],
   "source": [
    "# your code here"
   ]
  }
 ],
 "metadata": {
  "kernelspec": {
   "display_name": "Python 3",
   "language": "python",
   "name": "python3"
  },
  "language_info": {
   "codemirror_mode": {
    "name": "ipython",
    "version": 3
   },
   "file_extension": ".py",
   "mimetype": "text/x-python",
   "name": "python",
   "nbconvert_exporter": "python",
   "pygments_lexer": "ipython3",
   "version": "3.8.5"
  }
 },
 "nbformat": 4,
 "nbformat_minor": 2
}
